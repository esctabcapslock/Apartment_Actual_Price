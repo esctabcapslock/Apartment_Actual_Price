{
 "cells": [
  {
   "cell_type": "code",
   "execution_count": 1,
   "metadata": {
    "scrolled": true
   },
   "outputs": [
    {
     "name": "stdout",
     "output_type": "stream",
     "text": [
      "2020.12\n"
     ]
    },
    {
     "name": "stderr",
     "output_type": "stream",
     "text": [
      "4: UserWarning: Workbook contains no default style, apply openpyxl's default\n",
      "  warn(\"Workbook contains no default style, apply openpyxl's default\")\n"
     ]
    }
   ],
   "source": [
    "from openpyxl import load_workbook\n",
    "import math\n",
    "date = input()\n",
    "시트 = load_workbook(\"아파트(매매)_실거래가_%s.xlsx\"%(date), data_only=True)['아파트 매매 실거래가'];"
   ]
  },
  {
   "cell_type": "code",
   "execution_count": 2,
   "metadata": {},
   "outputs": [],
   "source": [
    "행정구역={}\n",
    "import csv\n",
    "f = open('행정구역.csv','r',  encoding='UTF8')\n",
    "rdr = csv.reader(f)\n",
    "i=0;\n",
    "for row in rdr:\n",
    "    i+=1\n",
    "    if not i-1: continue\n",
    "    #print(row)\n",
    "    행정구역[row[0]] = row[1][:-2]"
   ]
  },
  {
   "cell_type": "code",
   "execution_count": 3,
   "metadata": {},
   "outputs": [],
   "source": [
    "읽기시작=False\n",
    "data={}\n",
    "for row in 시트:\n",
    "    if not 읽기시작:\n",
    "        if row[0].value==\"시군구\": 읽기시작=True\n",
    "        continue;\n",
    "    \n",
    "    지역 = row[0].value\n",
    "    평단가 = float(row[8].value.replace(\" \",\"\").replace(\",\",\"\")) / float(row[5].value)\n",
    "    if 지역 not in data:\n",
    "        data[지역] = [평단가]\n",
    "    else: data[지역].append(평단가)"
   ]
  },
  {
   "cell_type": "code",
   "execution_count": 8,
   "metadata": {},
   "outputs": [
    {
     "name": "stdout",
     "output_type": "stream",
     "text": [
      "try{document.getElementById(\"42150115\").style.fill=pcolor(\"0.07200735405605752\")}catch{}\n",
      "try{document.getElementById(\"43130107\").style.fill=pcolor(\"0.06974885890076513\")}catch{}\n"
     ]
    }
   ],
   "source": [
    "ch={\n",
    "'고양덕양구':\"고양시 덕양구\",\n",
    "'고양일산동구':\"고양시 일산동구\",\n",
    "'고양일산서구':\"고양시 일산서구\",  \n",
    "'성남분당구':\"성남시 분당구\",\n",
    "'성남중원구':\"성남시 중원구\",\n",
    "'성남수정구':\"성남시 수정구\",\n",
    "'수원권선구':\"수원시 권선구\",\n",
    "'수원영통구':\"수원시 영통구\",\n",
    "'수원장안구':\"수원시 장안구\",\n",
    "'수원팔달구':\"수원시 팔달구\",\n",
    "'안산단원구':\"안산시 단원구\",\n",
    "'안산상록구':\"안산시 상록구\",\n",
    "'안양동안구':\"안양시 동안구\",\n",
    "'안양만안구':\"안양시 만안구\",\n",
    "'용인기흥구':\"용인시 기흥구\",\n",
    "'용인수지구':\"용인시 수지구\",\n",
    "'용인처인구':\"용인시 처인구\",\n",
    "'창원마산합포구':\"창원시 마산합포구\",\n",
    "'용인처인구':\"용인시 처인구\",\n",
    "}\n",
    "동={\n",
    "    '북문로2가동': '북문로2가',\n",
    "    '북문로3가동': '북문로3가',\n",
    "    '남문로1가동': '남문로1가'\n",
    "    \n",
    "}\n",
    "\n",
    "def get_js_fn(d_id,vlaue):\n",
    "    global M;\n",
    "    return \"\"\"try{document.getElementById(\"%s\").style.fill=pcolor(\"%s\")}catch{}\"\"\"%(d_id,str((vlaue-M[0])/(M[1]-M[0])))\n",
    "\n",
    "M=[9999999999999999,-9999999999999999]\n",
    "M=[25, 3300]\n",
    "\"\"\"for i in data:\n",
    "    data[i].sort()\n",
    "    if len(data[i])%2: 값 = data[i][len(data[i])//2]\n",
    "    else: 값 = (data[i][len(data[i])//2]+data[i][len(data[i])//2-1])/2\n",
    "    #값=sum(data[i]) / len(data[i])\n",
    "    M[0]=min(M[0],값)\n",
    "    M[1]=max(M[1],값)\n",
    "print(\"M\",M)\n",
    "\"\"\"\n",
    "\n",
    "\n",
    "file = open(\"k - 복사본 - 복사본.txt\",'a')\n",
    "file.write(\"list['%s']=`\"%date)\n",
    "\n",
    "\n",
    "for i in data:\n",
    "    ii = i.split()\n",
    "    \"\"\"if ii[1] in ch:\n",
    "        ii[1]=ch[ii[1]]\"\"\"\n",
    "    if \"세종특별자치시\" in i: 1+1;\n",
    "        \n",
    "    \n",
    "    elif i not in 행정구역:\n",
    "        ii[1] = ii[1][:2]+'시 '+ii[1][2:]\n",
    "    \n",
    "    if ii[-1] in 동:\n",
    "        ii[-1] = 동[ii[-1]]\n",
    "    ii=\" \".join(ii)\n",
    "    #if len(data[i])%2: 값 = data[i][len(data[i])//2]\n",
    "    #else: 값 = (data[i][len(data[i])//2]+data[i][len(data[i])//2-1])/2\n",
    "    값=sum(data[i]) / len(data[i])\n",
    "    print(get_js_fn(행정구역[ii], 값))\n",
    "    file.write(get_js_fn(행정구역[ii], 값)+'\\n')\n",
    "    \n",
    "file.write('`\\n');\n",
    "file.close()"
   ]
  },
  {
   "cell_type": "code",
   "execution_count": null,
   "metadata": {},
   "outputs": [],
   "source": []
  }
 ],
 "metadata": {
  "kernelspec": {
   "display_name": "Python 3",
   "language": "python",
   "name": "python3"
  },
  "language_info": {
   "codemirror_mode": {
    "name": "ipython",
    "version": 3
   },
   "file_extension": ".py",
   "mimetype": "text/x-python",
   "name": "python",
   "nbconvert_exporter": "python",
   "pygments_lexer": "ipython3",
   "version": "3.8.5"
  }
 },
 "nbformat": 4,
 "nbformat_minor": 4
}
